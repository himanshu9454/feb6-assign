{
 "cells": [
  {
   "cell_type": "markdown",
   "id": "36371e49-9eb1-4ec4-acae-756a3360a084",
   "metadata": {},
   "source": [
    "Q1. Create a function which will take a list as an argument and return the product of all the numbers\n",
    "after creating a flat list.\n",
    "Use the below-given list as an argument for your function."
   ]
  },
  {
   "cell_type": "code",
   "execution_count": 1,
   "id": "335ecbfb-5d38-42b6-be35-4ce596a3fb60",
   "metadata": {},
   "outputs": [
    {
     "name": "stdout",
     "output_type": "stream",
     "text": [
      "product(list1) = 0\n"
     ]
    }
   ],
   "source": [
    "list1 = [1,2,3,4, [44,55,66, True], False, (34,56,78,89,34), {1,2,3,3,2,1}, {1:34, \"key2\": [55, 67, 78, 89], 4: (45,\n",
    "22, 61, 34)}, [56, 'data science'], 'Machine Learning']\n",
    "\n",
    "def product(lst: list) -> float:\n",
    "    result = 1\n",
    "    for i in lst:\n",
    "        if isinstance(i, (int, float)):\n",
    "            result *= i\n",
    "        elif isinstance(i, (list, tuple, set)):\n",
    "            result = result * product(list(i))\n",
    "        elif isinstance(i, dict):\n",
    "            result = result * product(list(i.keys()))\n",
    "            result = result * product(list(i.values()))\n",
    "    return result\n",
    "\n",
    "print(f'{product(list1) = }')"
   ]
  },
  {
   "cell_type": "markdown",
   "id": "5d5ab8a0-466b-4bb8-91c5-2ceeb96e1406",
   "metadata": {},
   "source": [
    "Q2. Write a python program for encrypting a message sent to you by your friend. The logic of encryption\n",
    "should be such that, for a the output should be z. For b, the output should be y. For c, the output should\n",
    "be x respectively. Also, the whitespace should be replaced with a dollar sign. Keep the punctuation\n",
    "marks unchanged.\n",
    "Input Sentence: I want to become a Data Scientist.\n",
    "Encrypt the above input sentence using the program you just created.\n",
    "Note: Convert the given input sentence into lowercase before encrypting. The final output should be\n",
    "lowercase."
   ]
  },
  {
   "cell_type": "code",
   "execution_count": 1,
   "id": "a1082677-dd69-4cc2-b380-7c01c72ed0da",
   "metadata": {},
   "outputs": [],
   "source": [
    "import string\n",
    "def encode(msg):\n",
    "    msg=msg.lower()\n",
    "    a=[]\n",
    "    code=\"\"\n",
    "    for i in string.ascii_lowercase:\n",
    "        a.append(i)\n",
    "    y=a[::-1]\n",
    "    for j in msg:\n",
    "        if j.isspace():\n",
    "            code=code+\"$\"\n",
    "        elif j in string.punctuation:\n",
    "            code=code+j\n",
    "        else:\n",
    "            n=a.index(j)\n",
    "            code=code+y[n]\n",
    "            \n",
    "    return code    "
   ]
  },
  {
   "cell_type": "code",
   "execution_count": 2,
   "id": "0b22a1c6-44e2-459c-bf13-58bb96fac73e",
   "metadata": {},
   "outputs": [
    {
     "data": {
      "text/plain": [
       "'r$dzmg$gl$yvxlnv$z$wzgz$hxrvmgrhg.'"
      ]
     },
     "execution_count": 2,
     "metadata": {},
     "output_type": "execute_result"
    }
   ],
   "source": [
    "encode(\"I want to become a Data Scientist.\")"
   ]
  },
  {
   "cell_type": "code",
   "execution_count": null,
   "id": "2091c326-37ed-4f69-b630-041f52fba350",
   "metadata": {},
   "outputs": [],
   "source": []
  }
 ],
 "metadata": {
  "kernelspec": {
   "display_name": "Python 3 (ipykernel)",
   "language": "python",
   "name": "python3"
  },
  "language_info": {
   "codemirror_mode": {
    "name": "ipython",
    "version": 3
   },
   "file_extension": ".py",
   "mimetype": "text/x-python",
   "name": "python",
   "nbconvert_exporter": "python",
   "pygments_lexer": "ipython3",
   "version": "3.10.8"
  }
 },
 "nbformat": 4,
 "nbformat_minor": 5
}
